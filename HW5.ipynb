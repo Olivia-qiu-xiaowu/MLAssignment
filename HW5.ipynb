{
  "nbformat": 4,
  "nbformat_minor": 0,
  "metadata": {
    "colab": {
      "provenance": []
    },
    "kernelspec": {
      "name": "python3",
      "display_name": "Python 3"
    },
    "language_info": {
      "name": "python"
    }
  },
  "cells": [
    {
      "cell_type": "markdown",
      "source": [
        "Problem 1"
      ],
      "metadata": {
        "id": "EKSEOOQLVnZ-"
      }
    },
    {
      "cell_type": "code",
      "execution_count": 21,
      "metadata": {
        "id": "pC9o2bSSIgLu",
        "colab": {
          "base_uri": "https://localhost:8080/"
        },
        "outputId": "2fb46f9e-d66f-47b7-9690-d12d04c5c80a"
      },
      "outputs": [
        {
          "output_type": "stream",
          "name": "stdout",
          "text": [
            "gradients of w1 is  6.123233995736766e-17\n",
            "gradients of x1 is  9.618353468608949e-17\n",
            "gradients of w2 is  -2.4492935982947064e-16\n",
            "gradients of x2 is  -1.9236706937217898e-16\n"
          ]
        }
      ],
      "source": [
        "import numpy as np\n",
        "import math\n",
        "\n",
        "w1 = math.pi/2\n",
        "x1 = 1\n",
        "w2 = math.pi/2\n",
        "x2 = 2\n",
        "y = 1/(2+np.sin(w1*x1)+np.cos(w2*x2))\n",
        "W1X1 = w1 * x1\n",
        "W2X2 = w2 * x2\n",
        "\n",
        "derivative1 = -1/(y**2)\n",
        "derivative2 = derivative1\n",
        "derivative3 = derivative2\n",
        "derivativeW2X2 = -np.sin(W2X2)\n",
        "w2Deri = derivativeW2X2 * x2\n",
        "x2Deri = derivativeW2X2 * w2\n",
        "\n",
        "derivative4 = 2*derivative3\n",
        "derivativeW1X1 = np.cos(W1X1)\n",
        "w1Deri = derivativeW1X1 * x1\n",
        "x1Deri = derivativeW1X1 * w1\n",
        "\n",
        "print('gradients of w1 is ' , w1Deri)\n",
        "print('gradients of x1 is ' , x1Deri)\n",
        "print('gradients of w2 is ' , w2Deri)\n",
        "print('gradients of x2 is ' , x2Deri)\n"
      ]
    },
    {
      "cell_type": "markdown",
      "source": [
        "Problem 2"
      ],
      "metadata": {
        "id": "nQqme61UbHtt"
      }
    },
    {
      "cell_type": "code",
      "source": [
        "import numpy as np\n",
        "\n",
        "W=np.array([[2,1,2],[1,3,1],[7,4,7]])\n",
        "x=np.array([[-1],[0],[1]])\n",
        "q = np.dot(W,x)\n",
        "\n",
        "Wder = np.dot(q,x.T)\n",
        "xder = np.dot(W.T,q)\n",
        "\n",
        "print('gradients of W is ' , Wder)\n",
        "print('gradients of x is ' , xder)"
      ],
      "metadata": {
        "colab": {
          "base_uri": "https://localhost:8080/"
        },
        "id": "sX-ziFr_bJ1R",
        "outputId": "bea7c1a2-12c1-4cf0-9346-0407ea676608"
      },
      "execution_count": 32,
      "outputs": [
        {
          "output_type": "stream",
          "name": "stdout",
          "text": [
            "gradients of W is  [[0 0 0]\n",
            " [0 0 0]\n",
            " [0 0 0]]\n",
            "gradients of x is  [[0]\n",
            " [0]\n",
            " [0]]\n"
          ]
        }
      ]
    }
  ]
}