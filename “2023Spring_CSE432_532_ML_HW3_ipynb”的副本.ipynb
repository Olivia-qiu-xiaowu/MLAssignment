{
  "nbformat": 4,
  "nbformat_minor": 0,
  "metadata": {
    "colab": {
      "provenance": []
    },
    "kernelspec": {
      "name": "python3",
      "display_name": "Python 3"
    },
    "language_info": {
      "name": "python"
    },
    "accelerator": "GPU"
  },
  "cells": [
    {
      "cell_type": "markdown",
      "source": [
        "# This is the instructions for HW 3.\n",
        "\n",
        "# In this homework, you have Two programming Questions\n",
        "\n",
        "# The submission deadline is Feb 24th (next Friday) 23:59PM. Please submit the ipynb file to the canvas\n",
        "\n",
        "# NO Late submission\n",
        "\n",
        "The demos we used in the class can be found using the following link:\n",
        "\n",
        "https://colab.research.google.com/drive/1ONTJ_L_4CMcyJcXdCeljRntazdW1zjW6?usp=sharing\n",
        "\n",
        "https://colab.research.google.com/drive/1QI4v4_1bdeN5dJ_McV1Xn-RiavYvgymn?usp=sharing\n",
        "\n",
        "# ==============================================="
      ],
      "metadata": {
        "id": "858xvPa0cfoM"
      }
    },
    {
      "cell_type": "markdown",
      "source": [
        "# Question 1: KNN in image classification\n",
        "\n",
        "## Step1: Get to know the dataset [MNIST dataset](https://www.tensorflow.org/datasets/catalog/mnist) (Please click and read it before you run the following code)\n",
        "\n",
        "The following code downloads the MNIST dataset from the official website. Run this just once to get the \"mnist.pkl\" file. \n",
        "\n",
        "After you run this code, you can find the file in the \"Files\" option from the tool bar on the left \n",
        "\n",
        "<-"
      ],
      "metadata": {
        "id": "Sxcjr1VudWSb"
      }
    },
    {
      "cell_type": "code",
      "execution_count": 2,
      "metadata": {
        "id": "XntJALc5cacw",
        "colab": {
          "base_uri": "https://localhost:8080/"
        },
        "outputId": "495a92a8-bb10-43ae-e904-0ff745928267"
      },
      "outputs": [
        {
          "output_type": "stream",
          "name": "stdout",
          "text": [
            "Downloading train-images-idx3-ubyte.gz...\n",
            "Downloading t10k-images-idx3-ubyte.gz...\n",
            "Downloading train-labels-idx1-ubyte.gz...\n",
            "Downloading t10k-labels-idx1-ubyte.gz...\n",
            "Download complete.\n",
            "Save complete.\n"
          ]
        }
      ],
      "source": [
        "import numpy as np\n",
        "from urllib import request\n",
        "import gzip\n",
        "import pickle\n",
        "\n",
        "filename = [\n",
        "[\"training_images\",\"train-images-idx3-ubyte.gz\"],\n",
        "[\"test_images\",\"t10k-images-idx3-ubyte.gz\"],\n",
        "[\"training_labels\",\"train-labels-idx1-ubyte.gz\"],\n",
        "[\"test_labels\",\"t10k-labels-idx1-ubyte.gz\"]\n",
        "]\n",
        "\n",
        "def download_mnist():\n",
        "    base_url = \"http://yann.lecun.com/exdb/mnist/\"\n",
        "    for name in filename:\n",
        "        print(\"Downloading \"+name[1]+\"...\")\n",
        "        request.urlretrieve(base_url+name[1], name[1])\n",
        "    print(\"Download complete.\")\n",
        "\n",
        "def save_mnist():\n",
        "    mnist = {}\n",
        "    for name in filename[:2]:\n",
        "        with gzip.open(name[1], 'rb') as f:\n",
        "            mnist[name[0]] = np.frombuffer(f.read(), np.uint8, offset=16).reshape(-1,28*28)\n",
        "    for name in filename[-2:]:\n",
        "        with gzip.open(name[1], 'rb') as f:\n",
        "            mnist[name[0]] = np.frombuffer(f.read(), np.uint8, offset=8)\n",
        "    with open(\"mnist.pkl\", 'wb') as f:\n",
        "        pickle.dump(mnist,f)\n",
        "    print(\"Save complete.\")\n",
        "\n",
        "def init():\n",
        "    download_mnist()\n",
        "    save_mnist()\n",
        "#    print ((load()[0]).shape)\n",
        "def load():\n",
        "    with open(\"mnist.pkl\",'rb') as f:\n",
        "        mnist = pickle.load(f)\n",
        "    return mnist[\"training_images\"], mnist[\"training_labels\"], mnist[\"test_images\"], mnist[\"test_labels\"]\n",
        "\n",
        "if __name__ == '__main__':\n",
        "    init()"
      ]
    },
    {
      "cell_type": "markdown",
      "source": [
        "## If you are interested in what the data looks like. You can run the following code to see."
      ],
      "metadata": {
        "id": "XHA2Nmurtau9"
      }
    },
    {
      "cell_type": "code",
      "source": [
        "import matplotlib.pyplot as plt\n",
        "import numpy as np\n",
        "from matplotlib.colors import LogNorm\n",
        "\n",
        "\n",
        "import numpy as np\n",
        "from urllib import request\n",
        "import gzip\n",
        "import math\n",
        "import pickle\n",
        "\n",
        "\n",
        "\n",
        "\n",
        "def loadB():\n",
        "    with open(\"mnist.pkl\",'rb') as f:\n",
        "        mnist = pickle.load(f)\n",
        "\n",
        "        training_images, training_labels, testing_images, testing_labels = mnist[\"training_images\"], mnist[\"training_labels\"], mnist[\"test_images\"], mnist[\"test_labels\"]\n",
        "        # Normalize the images\n",
        "        training_images.astype('float32')\n",
        "        testing_images.astype('float32')\n",
        "        training_images = training_images / 255\n",
        "        testing_images = testing_images / 255\n",
        "        return training_images, training_labels, testing_images, testing_labels\n",
        "\n",
        "\n",
        "TRimg,TRlab,TSimg,TSlab=loadB()\n",
        "print(len(TRimg),len(TRlab),len(TSimg),len(TSlab))\n",
        "print(len(TRimg[0]),len(TRlab),len(TSimg[0]),len(TSlab))\n",
        "\n",
        "showInd=66\n",
        "Column=np.reshape(TRimg[showInd], (784, 1))\n",
        "arr_2d = np.reshape(TRimg[showInd], (28, 28))\n",
        "arr_2dT=np.rot90(arr_2d)\n",
        "arr_2dTA=np.rot90(arr_2dT)\n",
        "Final=np.fliplr(arr_2dTA)\n",
        "#arr_2dTA=np.transpose(arr_2dT)\n",
        "#arr_2dTB=np.transpose(arr_2dTA)\n",
        "print(\"===========this is the original image===========\")\n",
        "plt.pcolor(Final)\n",
        "print(TRlab[showInd])\n",
        "plt.show()\n",
        "print(\"===========this is the vectorized image===========\")\n",
        "plt.pcolor(Column)\n",
        "plt.show()\n",
        "\n",
        "#pcm = plt.pcolormesh(arr_2d,cmap='RdBu_r')\n",
        "#plt.colorbar(pcm)\n",
        "#plt.show()"
      ],
      "metadata": {
        "colab": {
          "base_uri": "https://localhost:8080/",
          "height": 600
        },
        "id": "qgVg6kzCtZxd",
        "outputId": "0cf06620-379a-4354-ef13-0ac78c545388"
      },
      "execution_count": 47,
      "outputs": [
        {
          "output_type": "stream",
          "name": "stdout",
          "text": [
            "60000 60000 10000 10000\n",
            "784 60000 784 10000\n",
            "===========this is the original image===========\n",
            "6\n"
          ]
        },
        {
          "output_type": "display_data",
          "data": {
            "text/plain": [
              "<Figure size 432x288 with 1 Axes>"
            ],
            "image/png": "[encoded data removed]"
          },
          "metadata": {
            "needs_background": "light"
          }
        },
        {
          "output_type": "stream",
          "name": "stdout",
          "text": [
            "===========this is the vectorized image===========\n"
          ]
        },
        {
          "output_type": "display_data",
          "data": {
            "text/plain": [
              "<Figure size 432x288 with 1 Axes>"
            ],
            "image/png": "[encoded data removed]"
          },
          "metadata": {
            "needs_background": "light"
          }
        }
      ]
    },
    {
      "cell_type": "markdown",
      "source": [
        "## In the next part, please implement the KNN function for hand written digit recognition\n",
        "\n"
      ],
      "metadata": {
        "id": "Atv56Vm7dgnH"
      }
    },
    {
      "cell_type": "markdown",
      "source": [
        "## What is the format of the dataset:\n",
        "\n",
        "**x_train** : 60,000x784 numpy array that each row contains flattened version of training images. \n",
        "\n",
        "**y_train** : 1x60,000 numpy array that each component is true label of the  corresponding training images. \n",
        "\n",
        "**x_test** : 10,000x784 numpy array that each row contains flattened version of\n",
        "test images. Each vector of 784 is the vector for one image.\n",
        "\n",
        "**y_test** : 1x10,000 numpy array that each component is true label of the \n",
        "corresponding test images. "
      ],
      "metadata": {
        "id": "yRq3R-3Ice4V"
      }
    },
    {
      "cell_type": "markdown",
      "source": [
        "**Notice**:  Once  you  get  “mnist.pkl”,  you  don't  need  to  call  init()  anymore. \n",
        "Everything you need to do is to locate “mnist.pkl” \n",
        "in your working directory and  to call load(). Then you can load  the MNIST \n",
        "database in your code (given below) "
      ],
      "metadata": {
        "id": "42I7r1GMezTX"
      }
    },
    {
      "cell_type": "markdown",
      "source": [
        "**Notice**: Due to the high computational complexity of KNN, you do not need \n",
        "to  classify  all  10000  test  images.  Instead,  you  can  select  how  many  test \n",
        "images to classify in \n",
        "\n",
        "\"outputlabels=kNNClassify(x_test[0:20],x_train,y_train,10)\"\n",
        "\n",
        "The suggested configuration is 20 test images and K=10"
      ],
      "metadata": {
        "id": "ccLLytZbe9Ga"
      }
    },
    {
      "cell_type": "markdown",
      "source": [
        "**Note**: The code for data loading has been given. You can \n",
        "utilize them or write your own codes. Basically, you just need to modify the code bellow. You can choose the value of k (suggested value is 10). Also, \n",
        "choose L2 distance as the measurement metric. "
      ],
      "metadata": {
        "id": "DIuKSzPGfAef"
      }
    },
    {
      "cell_type": "markdown",
      "source": [
        "Accuracy result and execution time should be printed out and you can directly use the code provided in the following"
      ],
      "metadata": {
        "id": "2JDBf3rpfUpK"
      }
    },
    {
      "cell_type": "markdown",
      "source": [
        "## Step 2 implement your KNN algorithm\n",
        "\n",
        "Now you need to implement the KNN algorithm below. Test the KNN algorithm for 20 test images. Calculate the processing overhead (time consumption) and the classification accuracy (code provided, the accuracy should be higher than 30%). "
      ],
      "metadata": {
        "id": "9_s1gFOl8UKM"
      }
    },
    {
      "cell_type": "code",
      "source": [
        "import math\n",
        "import numpy as np  \n",
        "import operator  \n",
        "import time\n",
        "import pickle\n",
        "\n",
        "#load the data that you downloaded\n",
        "\n",
        "def load():\n",
        "    with open(\"mnist.pkl\",'rb') as f:\n",
        "        mnist = pickle.load(f)\n",
        "    return mnist[\"training_images\"], mnist[\"training_labels\"], mnist[\"test_images\"], mnist[\"test_labels\"]\n",
        "\n",
        "# classify using kNN  \n",
        "#x_train = np.load('../x_train.npy')\n",
        "#y_train = np.load('../y_train.npy')\n",
        "#x_test = np.load('../x_test.npy')\n",
        "#y_test = np.load('../y_test.npy')\n",
        "'''\n",
        "The meaning of each data\n",
        "x_train, training data\n",
        "y_train, corresponding label\n",
        "x_test,  testing data\n",
        "y_test. corresponding label\n",
        "'''\n",
        "x_train, y_train, x_test, y_test = load()\n",
        "print(x_train.shape) # should be (60000, 784) meaning 60000 images. each image has been converted into one vector.\n",
        "\n",
        "def most_frequent(List):\n",
        "    counter = 0\n",
        "    num = List[0]\n",
        "     \n",
        "    for i in List:\n",
        "        curr_frequency = List.count(i)\n",
        "        if(curr_frequency> counter):\n",
        "            counter = curr_frequency\n",
        "            num = i\n",
        " \n",
        "    return num\n",
        "\n",
        "def kNNClassify(newInput, dataSet, labels, k): \n",
        "    result=[]\n",
        "    ########################\n",
        "    # Add your code here #\n",
        "    ########################\n",
        "    \n",
        "    #step 1: calculate Euclidean distance (L2)\n",
        "    \n",
        "\n",
        "\n",
        "    #step 2: sort the distance \n",
        "\n",
        "\n",
        "\n",
        "    #step 3: the most common class will be returned \n",
        "    distanceTest = []\n",
        "    Klist = []\n",
        "    min = []\n",
        "    \n",
        "    for TE in range(newInput.shape[0]):\n",
        "      for TR in range(dataSet.shape[0]):\n",
        "        distanceTest.append(np.sqrt(np.sum((newInput[TE]-dataSet[TR])**2)))\n",
        "      #mindistance = np.asarray(distancelist)\n",
        "      min = np.argpartition(distanceTest,k)\n",
        "      #print(min)\n",
        "      for i in range(k):\n",
        "        Klist.append(labels[min[i]])\n",
        "        #print(labels[min[i]])\n",
        "      print(most_frequent(Klist))\n",
        "      result.append(most_frequent(Klist))\n",
        "      distanceTest = []\n",
        "      min = []\n",
        "      Klist = []\n",
        "        \n",
        "    ####################\n",
        "    # End of your code #\n",
        "    ####################\n",
        "    print(result)\n",
        "    return result\n",
        "\n",
        "\n",
        "#Calculate the processing overhead (time consumption) and the classification accuracy.\n",
        "start_time = time.time()\n",
        "outputlabels=kNNClassify(x_test[0:20],x_train,y_train,10) # your function\n",
        "result = y_test[0:20] - outputlabels\n",
        "result = (1 - np.count_nonzero(result)/len(outputlabels))\n",
        "print (\"---classification accuracy for knn on mnist: %s ---\" %result)\n",
        "print (\"---execution time: %s seconds ---\" % (time.time() - start_time))"
      ],
      "metadata": {
        "id": "Ij0t0dd3fGz_",
        "colab": {
          "base_uri": "https://localhost:8080/"
        },
        "outputId": "0f1f2dd8-b384-4ace-dce9-3c3d78e888d5"
      },
      "execution_count": 36,
      "outputs": [
        {
          "output_type": "stream",
          "name": "stdout",
          "text": [
            "(60000, 784)\n",
            "7\n",
            "1\n",
            "1\n",
            "0\n",
            "3\n",
            "1\n",
            "7\n",
            "7\n",
            "1\n",
            "1\n",
            "4\n",
            "4\n",
            "7\n",
            "1\n",
            "1\n",
            "1\n",
            "7\n",
            "1\n",
            "3\n",
            "4\n",
            "[7, 1, 1, 0, 3, 1, 7, 7, 1, 1, 4, 4, 7, 1, 1, 1, 7, 1, 3, 4]\n",
            "---classification accuracy for knn on mnist: 0.35 ---\n",
            "---execution time: 13.171547412872314 seconds ---\n"
          ]
        }
      ]
    },
    {
      "cell_type": "markdown",
      "source": [
        "# Question 2 [K-Means](https://colab.research.google.com/drive/1QI4v4_1bdeN5dJ_McV1Xn-RiavYvgymn?usp=sharing) \n",
        "\n",
        "Comparing to the KNN, K-means is an unsupervised learning which does not require the label. In this question, you will directly divide the 10000 test images into 10 groups using K-means. This question has two challenging tasks that you need to solve:\n",
        "\n",
        "\n",
        "\n",
        "1.   Task 1: Implement the K-Means for image classification in MNIST dataset. (K=10) Check the different results when starting with different the centroids. For example, what would be the difference between selecting 10 centroids from each class and selecting 10 centroids from one class. (You do not need to calculate the accuracy)\n",
        "\n",
        "2.   Task 2: How to evaluate the performance. You need to carefully design the code to check the classification results, since in un-supervised learning, the clustering result does not include the classification results. For example, by using K-means, you know some data points belong to one cluster but you do not know which class it blongs to. For another example, after you apply the K-Means, you get 1000 images that are clustered into one group. However, some of them have the label of \"7\" and some of them have the label of \"8\". You do not know the class for this particular cluster. So, how to decide and how to ecaluate the classifcation accuracy is very challenge (groundtruth could be applied here). Please design an evaluation method to evaluate the clustering performance of using K-means in MNIST dataset.\n",
        "\n"
      ],
      "metadata": {
        "id": "3nwmkhPbfksl"
      }
    },
    {
      "cell_type": "markdown",
      "source": [
        "- Task 1 is required for all students.\n",
        "\n",
        "- Task 2 is only required for graduate student and is optional for undergraduate student. Any undergraduate student who finishes Task 2 will receive 10% bonus for this homework (not to the final grade) (should not exceed the full score)."
      ],
      "metadata": {
        "id": "yHXd3z_ofsog"
      }
    },
    {
      "cell_type": "code",
      "source": [
        "import math\n",
        "import numpy as np  \n",
        "import operator  \n",
        "import time\n",
        "import pickle\n",
        "import random\n",
        "\n",
        "#load the data that you downloaded\n",
        "\n",
        "def load():\n",
        "    with open(\"mnist.pkl\",'rb') as f:\n",
        "        mnist = pickle.load(f)\n",
        "    return mnist[\"training_images\"], mnist[\"training_labels\"], mnist[\"test_images\"], mnist[\"test_labels\"]\n",
        "\n",
        "# classify using kNN  \n",
        "#x_train = np.load('../x_train.npy')\n",
        "#y_train = np.load('../y_train.npy')\n",
        "#x_test = np.load('../x_test.npy')\n",
        "#y_test = np.load('../y_test.npy')\n",
        "'''\n",
        "x_train, training data\n",
        "y_train, corresponding label\n",
        "x_test,  testing data\n",
        "y_test. corresponding label\n",
        "'''\n",
        "x_train, y_train, x_test, y_test = load()\n",
        "print(x_train.shape)\n",
        "\n",
        "def KM(X_train, k):\n",
        "  index = random.sample(list(range(len(X_train))), k)\n",
        "  print(X_train.shape)\n",
        "  RepeatKM(X_train, index)\n",
        "\n",
        "def RepeatKM(X_train, Centroids):\n",
        "  NewClass=[]\n",
        "  # Classification for each data point\n",
        "  # Outer loop go through each data point\n",
        "  for One in X_train:\n",
        "    L2_Dis=[]\n",
        "    for Center in Centroids:\n",
        "      # for each datapoint, calculate the distance between this datapoint to \n",
        "      # each center.\n",
        "      L2_Dis.append(np.sqrt(np.sum((One-Center)**2)))\n",
        "    \n",
        "    NP_D=np.asarray(L2_Dis)\n",
        "    min_index = np.argmin(NP_D)\n",
        "    print(L2_Dis,min_index)\n",
        "    # find the new class for each datapoint based on the centroid of each class\n",
        "    NewClass.append(min_index)\n",
        "\n",
        "  Row,Col=Centroids.shape\n",
        "  #print(Row,Col)\n",
        "  # update the centroids based on the classification results\n",
        "  for i in range(Row):\n",
        "    TmpCent=np.zeros(Col)\n",
        "    count=0\n",
        "    for j in range(len(NewClass)):\n",
        "      if NewClass[j]==i:\n",
        "        #print(NewClass[j],i)\n",
        "        for k in range(Col):\n",
        "          TmpCent[k]=TmpCent[k]+X_train[j][k]\n",
        "        count=count+1\n",
        "    #print(TmpCent,\"====\",count)\n",
        "    for k in range(Col):\n",
        "      Centroids[i][k]=float(TmpCent[k]/count)\n",
        "    print(Centroids[i])\n",
        "  return Centroids\n",
        "\n",
        "X_train=np.array([[0,1,0],[0,1,1],[1,2,1],[1,2,0],[1,2,2],[2,2,2],[1,2, -1],[2,2,3],[-1, -1, -1],[0, -1, -2],[0, -1,1],[-1, -2,1]])\n",
        "Centroids=np.array([[0.0,1.0,0.0],[0,1.0,1.0],[1.0,2.0,1.0]])\n",
        "x,y=Centroids.shape\n",
        "print(x,y)\n",
        "# one iteratin of KMeans\n",
        "Centroids=RepeatKM(X_train,Centroids)\n",
        "#print(np.zeros(2))\n",
        "print(Centroids)\n",
        "#print(KM(x_train, 10))\n"
      ],
      "metadata": {
        "id": "j8tkZmTxGUUn",
        "colab": {
          "base_uri": "https://localhost:8080/"
        },
        "outputId": "0e8d4ad3-6e89-4798-ce5a-3fd5c96e7931"
      },
      "execution_count": 55,
      "outputs": [
        {
          "output_type": "stream",
          "name": "stdout",
          "text": [
            "(60000, 784)\n",
            "3 3\n",
            "[0.0, 1.0, 1.7320508075688772] 0\n",
            "[1.0, 0.0, 1.4142135623730951] 1\n",
            "[1.7320508075688772, 1.4142135623730951, 0.0] 2\n",
            "[1.4142135623730951, 1.7320508075688772, 1.0] 2\n",
            "[2.449489742783178, 1.7320508075688772, 1.0] 2\n",
            "[3.0, 2.449489742783178, 1.4142135623730951] 2\n",
            "[1.7320508075688772, 2.449489742783178, 2.0] 0\n",
            "[3.7416573867739413, 3.0, 2.23606797749979] 2\n",
            "[2.449489742783178, 3.0, 4.123105625617661] 0\n",
            "[2.8284271247461903, 3.605551275463989, 4.358898943540674] 0\n",
            "[2.23606797749979, 2.0, 3.1622776601683795] 1\n",
            "[3.3166247903554, 3.1622776601683795, 4.47213595499958] 1\n",
            "[ 0.    0.25 -1.  ]\n",
            "[-0.33333333 -0.66666667  1.        ]\n",
            "[1.4 2.  1.6]\n",
            "[[ 0.          0.25       -1.        ]\n",
            " [-0.33333333 -0.66666667  1.        ]\n",
            " [ 1.4         2.          1.6       ]]\n"
          ]
        }
      ]
    }
  ]
}